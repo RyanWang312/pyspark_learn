{
 "cells": [
  {
   "cell_type": "markdown",
   "metadata": {},
   "source": [
    "### 评估器\n",
    "**分类(classification)**"
   ]
  },
  {
   "cell_type": "markdown",
   "metadata": {},
   "source": [
    "#### LogisticRegression :逻辑回归,支持多项逻辑（softmax）和二项逻辑回归"
   ]
  },
  {
   "cell_type": "markdown",
   "metadata": {},
   "source": [
    "pyspark.ml.classification.LogisticRegression(self, featuresCol=\"features\", labelCol=\"label\", predictionCol=\"prediction\", maxIter=100, regParam=0.0, elasticNetParam=0.0, tol=1e-6, fitIntercept=True, threshold=0.5, thresholds=None, probabilityCol=\"probability\", rawPredictionCol=\"rawPrediction\", standardization=True, weightCol=None, aggregationDepth=2, family=\"auto\")\n"
   ]
  },
  {
   "cell_type": "code",
   "execution_count": 3,
   "metadata": {},
   "outputs": [],
   "source": [
    "from pyspark.sql import Row, SparkSession\n",
    "from pyspark.ml.linalg import Vectors\n",
    "from pyspark import SparkConf, SparkContext\n",
    "conf = SparkConf().setAppName(\"learn_ml\").setMaster(\"local[1]\")\n",
    "sc = SparkContext.getOrCreate(conf)\n",
    "spark = SparkSession.builder.master('local[1]').appName('learn_ml').getOrCreate()\n",
    "\n",
    "bdf = spark.createDataFrame([\n",
    "     Row(label=1.0, weight=1.0, features=Vectors.dense(0.0, 5.0)),\n",
    "     Row(label=0.0, weight=2.0, features=Vectors.dense(1.0, 2.0)),\n",
    "     Row(label=1.0, weight=3.0, features=Vectors.dense(2.0, 1.0)),\n",
    "     Row(label=0.0, weight=4.0, features=Vectors.dense(3.0, 3.0))])\n"
   ]
  },
  {
   "cell_type": "code",
   "execution_count": 4,
   "metadata": {},
   "outputs": [
    {
     "name": "stdout",
     "output_type": "stream",
     "text": [
      "+---------+-----+------+\n",
      "| features|label|weight|\n",
      "+---------+-----+------+\n",
      "|[0.0,5.0]|  1.0|   1.0|\n",
      "|[1.0,2.0]|  0.0|   2.0|\n",
      "|[2.0,1.0]|  1.0|   3.0|\n",
      "|[3.0,3.0]|  0.0|   4.0|\n",
      "+---------+-----+------+\n",
      "\n"
     ]
    }
   ],
   "source": [
    "bdf.show()"
   ]
  },
  {
   "cell_type": "code",
   "execution_count": 5,
   "metadata": {},
   "outputs": [
    {
     "data": {
      "text/plain": [
       "DenseVector([-1.0807, -0.6463])"
      ]
     },
     "execution_count": 5,
     "metadata": {},
     "output_type": "execute_result"
    }
   ],
   "source": [
    "from pyspark.ml.classification import LogisticRegression\n",
    "blor = LogisticRegression(regParam=0.01, weightCol='weight')\n",
    "blorModel = blor.fit(bdf)\n",
    "blorModel.coefficients"
   ]
  },
  {
   "cell_type": "code",
   "execution_count": 6,
   "metadata": {},
   "outputs": [],
   "source": [
    "test0 = sc.parallelize([Row(features=Vectors.dense(-1.0, 1.0))]).toDF()"
   ]
  },
  {
   "cell_type": "code",
   "execution_count": 8,
   "metadata": {},
   "outputs": [
    {
     "name": "stdout",
     "output_type": "stream",
     "text": [
      "+----------+--------------------+--------------------+----------+\n",
      "|  features|       rawPrediction|         probability|prediction|\n",
      "+----------+--------------------+--------------------+----------+\n",
      "|[-1.0,1.0]|[-3.5472025573965...|[0.02799860485691...|       1.0|\n",
      "+----------+--------------------+--------------------+----------+\n",
      "\n"
     ]
    }
   ],
   "source": [
    "blorModel.transform(test0).show()"
   ]
  },
  {
   "cell_type": "code",
   "execution_count": null,
   "metadata": {},
   "outputs": [],
   "source": []
  }
 ],
 "metadata": {
  "kernelspec": {
   "display_name": "Python 3",
   "language": "python",
   "name": "python3"
  },
  "language_info": {
   "codemirror_mode": {
    "name": "ipython",
    "version": 3
   },
   "file_extension": ".py",
   "mimetype": "text/x-python",
   "name": "python",
   "nbconvert_exporter": "python",
   "pygments_lexer": "ipython3",
   "version": "3.6.4"
  }
 },
 "nbformat": 4,
 "nbformat_minor": 2
}
